{
 "cells": [
  {
   "cell_type": "code",
   "execution_count": 1,
   "metadata": {},
   "outputs": [],
   "source": [
    "import json\n",
    "def json_data(data):\n",
    "    json_data = json.loads(data.to_json())\n",
    "    json_data = json.dumps(json_data)\n",
    "    return json_data"
   ]
  },
  {
   "cell_type": "code",
   "execution_count": 2,
   "metadata": {},
   "outputs": [],
   "source": [
    "import numpy as np\n",
    "import colorcet as cc\n",
    "from bokeh.layouts import gridplot\n",
    "from bokeh.plotting import figure, output_file, show\n",
    "from bokeh.models import Legend\n",
    "from bokeh.models import ColumnDataSource, LinearColorMapper\n",
    "from bokeh.io import curdoc, output_notebook, show\n",
    "from bokeh.models import LinearColorMapper\n",
    "from bokeh.models import BasicTickFormatter, LogTicker,ColorBar\n",
    "from bokeh.models import LogColorMapper"
   ]
  },
  {
   "cell_type": "markdown",
   "metadata": {},
   "source": [
    "### Preparing the data"
   ]
  },
  {
   "cell_type": "code",
   "execution_count": 3,
   "metadata": {},
   "outputs": [],
   "source": [
    "%run data_prep.ipynb"
   ]
  },
  {
   "cell_type": "code",
   "execution_count": 5,
   "metadata": {},
   "outputs": [],
   "source": [
    "dead = dead_per_million_df\n",
    "countries = dead['country']\n",
    "dead = dead.drop(['country','country_code','population'], axis=1)\n",
    "latest = dead[dead.columns[-1]]"
   ]
  },
  {
   "cell_type": "code",
   "execution_count": 6,
   "metadata": {
    "scrolled": true
   },
   "outputs": [
    {
     "data": {
      "text/html": [
       "<div>\n",
       "<style scoped>\n",
       "    .dataframe tbody tr th:only-of-type {\n",
       "        vertical-align: middle;\n",
       "    }\n",
       "\n",
       "    .dataframe tbody tr th {\n",
       "        vertical-align: top;\n",
       "    }\n",
       "\n",
       "    .dataframe thead th {\n",
       "        text-align: right;\n",
       "    }\n",
       "</style>\n",
       "<table border=\"1\" class=\"dataframe\">\n",
       "  <thead>\n",
       "    <tr style=\"text-align: right;\">\n",
       "      <th></th>\n",
       "      <th>1/22/20</th>\n",
       "      <th>1/23/20</th>\n",
       "      <th>1/24/20</th>\n",
       "      <th>1/25/20</th>\n",
       "      <th>1/26/20</th>\n",
       "      <th>1/27/20</th>\n",
       "      <th>1/28/20</th>\n",
       "      <th>1/29/20</th>\n",
       "      <th>1/30/20</th>\n",
       "      <th>1/31/20</th>\n",
       "      <th>...</th>\n",
       "      <th>5/3/20</th>\n",
       "      <th>5/4/20</th>\n",
       "      <th>5/5/20</th>\n",
       "      <th>5/6/20</th>\n",
       "      <th>5/7/20</th>\n",
       "      <th>5/8/20</th>\n",
       "      <th>5/9/20</th>\n",
       "      <th>5/10/20</th>\n",
       "      <th>5/11/20</th>\n",
       "      <th>5/12/20</th>\n",
       "    </tr>\n",
       "  </thead>\n",
       "  <tbody>\n",
       "    <tr>\n",
       "      <th>0</th>\n",
       "      <td>0.0</td>\n",
       "      <td>0.0</td>\n",
       "      <td>0.0</td>\n",
       "      <td>0.0</td>\n",
       "      <td>0.0</td>\n",
       "      <td>0.0</td>\n",
       "      <td>0.0</td>\n",
       "      <td>0.0</td>\n",
       "      <td>0.0</td>\n",
       "      <td>0.0</td>\n",
       "      <td>...</td>\n",
       "      <td>18.895555</td>\n",
       "      <td>18.895555</td>\n",
       "      <td>18.895555</td>\n",
       "      <td>18.895555</td>\n",
       "      <td>28.343332</td>\n",
       "      <td>28.343332</td>\n",
       "      <td>28.343332</td>\n",
       "      <td>28.343332</td>\n",
       "      <td>28.343332</td>\n",
       "      <td>28.343332</td>\n",
       "    </tr>\n",
       "    <tr>\n",
       "      <th>1</th>\n",
       "      <td>0.0</td>\n",
       "      <td>0.0</td>\n",
       "      <td>0.0</td>\n",
       "      <td>0.0</td>\n",
       "      <td>0.0</td>\n",
       "      <td>0.0</td>\n",
       "      <td>0.0</td>\n",
       "      <td>0.0</td>\n",
       "      <td>0.0</td>\n",
       "      <td>0.0</td>\n",
       "      <td>...</td>\n",
       "      <td>2.286644</td>\n",
       "      <td>2.421152</td>\n",
       "      <td>2.555661</td>\n",
       "      <td>2.797776</td>\n",
       "      <td>2.851579</td>\n",
       "      <td>2.932284</td>\n",
       "      <td>3.093694</td>\n",
       "      <td>3.228203</td>\n",
       "      <td>3.282006</td>\n",
       "      <td>3.416515</td>\n",
       "    </tr>\n",
       "    <tr>\n",
       "      <th>2</th>\n",
       "      <td>0.0</td>\n",
       "      <td>0.0</td>\n",
       "      <td>0.0</td>\n",
       "      <td>0.0</td>\n",
       "      <td>0.0</td>\n",
       "      <td>0.0</td>\n",
       "      <td>0.0</td>\n",
       "      <td>0.0</td>\n",
       "      <td>0.0</td>\n",
       "      <td>0.0</td>\n",
       "      <td>...</td>\n",
       "      <td>0.064914</td>\n",
       "      <td>0.064914</td>\n",
       "      <td>0.064914</td>\n",
       "      <td>0.064914</td>\n",
       "      <td>0.064914</td>\n",
       "      <td>0.064914</td>\n",
       "      <td>0.064914</td>\n",
       "      <td>0.064914</td>\n",
       "      <td>0.064914</td>\n",
       "      <td>0.064914</td>\n",
       "    </tr>\n",
       "    <tr>\n",
       "      <th>3</th>\n",
       "      <td>0.0</td>\n",
       "      <td>0.0</td>\n",
       "      <td>0.0</td>\n",
       "      <td>0.0</td>\n",
       "      <td>0.0</td>\n",
       "      <td>0.0</td>\n",
       "      <td>0.0</td>\n",
       "      <td>0.0</td>\n",
       "      <td>0.0</td>\n",
       "      <td>0.0</td>\n",
       "      <td>...</td>\n",
       "      <td>0.000000</td>\n",
       "      <td>0.000000</td>\n",
       "      <td>0.000000</td>\n",
       "      <td>0.000000</td>\n",
       "      <td>0.000000</td>\n",
       "      <td>0.000000</td>\n",
       "      <td>0.000000</td>\n",
       "      <td>0.000000</td>\n",
       "      <td>0.000000</td>\n",
       "      <td>0.000000</td>\n",
       "    </tr>\n",
       "    <tr>\n",
       "      <th>4</th>\n",
       "      <td>0.0</td>\n",
       "      <td>0.0</td>\n",
       "      <td>0.0</td>\n",
       "      <td>0.0</td>\n",
       "      <td>0.0</td>\n",
       "      <td>0.0</td>\n",
       "      <td>0.0</td>\n",
       "      <td>0.0</td>\n",
       "      <td>0.0</td>\n",
       "      <td>0.0</td>\n",
       "      <td>...</td>\n",
       "      <td>10.815050</td>\n",
       "      <td>10.815050</td>\n",
       "      <td>10.815050</td>\n",
       "      <td>10.815050</td>\n",
       "      <td>10.815050</td>\n",
       "      <td>10.815050</td>\n",
       "      <td>10.815050</td>\n",
       "      <td>10.815050</td>\n",
       "      <td>10.815050</td>\n",
       "      <td>10.815050</td>\n",
       "    </tr>\n",
       "  </tbody>\n",
       "</table>\n",
       "<p>5 rows × 112 columns</p>\n",
       "</div>"
      ],
      "text/plain": [
       "   1/22/20  1/23/20  1/24/20  1/25/20  1/26/20  1/27/20  1/28/20  1/29/20  \\\n",
       "0      0.0      0.0      0.0      0.0      0.0      0.0      0.0      0.0   \n",
       "1      0.0      0.0      0.0      0.0      0.0      0.0      0.0      0.0   \n",
       "2      0.0      0.0      0.0      0.0      0.0      0.0      0.0      0.0   \n",
       "3      0.0      0.0      0.0      0.0      0.0      0.0      0.0      0.0   \n",
       "4      0.0      0.0      0.0      0.0      0.0      0.0      0.0      0.0   \n",
       "\n",
       "   1/30/20  1/31/20  ...     5/3/20     5/4/20     5/5/20     5/6/20  \\\n",
       "0      0.0      0.0  ...  18.895555  18.895555  18.895555  18.895555   \n",
       "1      0.0      0.0  ...   2.286644   2.421152   2.555661   2.797776   \n",
       "2      0.0      0.0  ...   0.064914   0.064914   0.064914   0.064914   \n",
       "3      0.0      0.0  ...   0.000000   0.000000   0.000000   0.000000   \n",
       "4      0.0      0.0  ...  10.815050  10.815050  10.815050  10.815050   \n",
       "\n",
       "      5/7/20     5/8/20     5/9/20    5/10/20    5/11/20    5/12/20  \n",
       "0  28.343332  28.343332  28.343332  28.343332  28.343332  28.343332  \n",
       "1   2.851579   2.932284   3.093694   3.228203   3.282006   3.416515  \n",
       "2   0.064914   0.064914   0.064914   0.064914   0.064914   0.064914  \n",
       "3   0.000000   0.000000   0.000000   0.000000   0.000000   0.000000  \n",
       "4  10.815050  10.815050  10.815050  10.815050  10.815050  10.815050  \n",
       "\n",
       "[5 rows x 112 columns]"
      ]
     },
     "execution_count": 6,
     "metadata": {},
     "output_type": "execute_result"
    }
   ],
   "source": [
    "dead.fillna(0)\n",
    "dead.head()"
   ]
  },
  {
   "cell_type": "code",
   "execution_count": 7,
   "metadata": {},
   "outputs": [
    {
     "data": {
      "text/plain": [
       "1/22/20     0.000000\n",
       "1/23/20     0.000000\n",
       "1/24/20     0.000000\n",
       "1/25/20     0.000000\n",
       "1/26/20     0.000000\n",
       "1/27/20     0.000000\n",
       "1/28/20     0.000000\n",
       "1/29/20     0.000000\n",
       "1/30/20     0.000000\n",
       "1/31/20     0.000000\n",
       "2/1/20      0.000000\n",
       "2/2/20      0.000000\n",
       "2/3/20      0.000000\n",
       "2/4/20      0.000000\n",
       "2/5/20      0.000000\n",
       "2/6/20      0.000000\n",
       "2/7/20      0.000000\n",
       "2/8/20      0.000000\n",
       "2/9/20      0.000000\n",
       "2/10/20     0.000000\n",
       "2/11/20     0.000000\n",
       "2/12/20     0.000000\n",
       "2/13/20     0.000000\n",
       "2/14/20     0.000000\n",
       "2/15/20     0.000000\n",
       "2/16/20     0.000000\n",
       "2/17/20     0.000000\n",
       "2/18/20     0.000000\n",
       "2/19/20     0.000000\n",
       "2/20/20     0.000000\n",
       "             ...    \n",
       "4/13/20     0.000000\n",
       "4/14/20     0.000000\n",
       "4/15/20     9.447777\n",
       "4/16/20    18.895555\n",
       "4/17/20    18.895555\n",
       "4/18/20    18.895555\n",
       "4/19/20    18.895555\n",
       "4/20/20    18.895555\n",
       "4/21/20    18.895555\n",
       "4/22/20    18.895555\n",
       "4/23/20    18.895555\n",
       "4/24/20    18.895555\n",
       "4/25/20    18.895555\n",
       "4/26/20    18.895555\n",
       "4/27/20    18.895555\n",
       "4/28/20    18.895555\n",
       "4/29/20    18.895555\n",
       "4/30/20    18.895555\n",
       "5/1/20     18.895555\n",
       "5/2/20     18.895555\n",
       "5/3/20     18.895555\n",
       "5/4/20     18.895555\n",
       "5/5/20     18.895555\n",
       "5/6/20     18.895555\n",
       "5/7/20     28.343332\n",
       "5/8/20     28.343332\n",
       "5/9/20     28.343332\n",
       "5/10/20    28.343332\n",
       "5/11/20    28.343332\n",
       "5/12/20    28.343332\n",
       "Name: 0, Length: 112, dtype: float64"
      ]
     },
     "execution_count": 7,
     "metadata": {},
     "output_type": "execute_result"
    }
   ],
   "source": [
    "indexed_data = dead.loc()\n",
    "\n",
    "indexed_data[0]"
   ]
  },
  {
   "cell_type": "markdown",
   "metadata": {},
   "source": [
    " "
   ]
  },
  {
   "cell_type": "code",
   "execution_count": 8,
   "metadata": {},
   "outputs": [
    {
     "ename": "NameError",
     "evalue": "name 'countermeasures_df' is not defined",
     "output_type": "error",
     "traceback": [
      "\u001b[0;31m---------------------------------------------------------------------------\u001b[0m",
      "\u001b[0;31mNameError\u001b[0m                                 Traceback (most recent call last)",
      "\u001b[0;32m<ipython-input-8-037b69e5b08e>\u001b[0m in \u001b[0;36m<module>\u001b[0;34m\u001b[0m\n\u001b[0;32m----> 1\u001b[0;31m \u001b[0mcounter\u001b[0m \u001b[0;34m=\u001b[0m \u001b[0mcountermeasures_df\u001b[0m\u001b[0;34m\u001b[0m\u001b[0;34m\u001b[0m\u001b[0m\n\u001b[0m\u001b[1;32m      2\u001b[0m \u001b[0mcounter\u001b[0m \u001b[0;34m=\u001b[0m \u001b[0mcounter\u001b[0m\u001b[0;34m.\u001b[0m\u001b[0mdrop\u001b[0m\u001b[0;34m(\u001b[0m\u001b[0mcounter\u001b[0m\u001b[0;34m.\u001b[0m\u001b[0mcolumns\u001b[0m\u001b[0;34m[\u001b[0m\u001b[0;36m11\u001b[0m\u001b[0;34m:\u001b[0m\u001b[0;34m]\u001b[0m\u001b[0;34m,\u001b[0m \u001b[0maxis\u001b[0m\u001b[0;34m=\u001b[0m\u001b[0;36m1\u001b[0m\u001b[0;34m)\u001b[0m\u001b[0;34m\u001b[0m\u001b[0;34m\u001b[0m\u001b[0m\n\u001b[1;32m      3\u001b[0m \u001b[0mcounter\u001b[0m \u001b[0;34m=\u001b[0m \u001b[0mcounter\u001b[0m\u001b[0;34m.\u001b[0m\u001b[0mdrop\u001b[0m\u001b[0;34m(\u001b[0m\u001b[0;34m'country_code'\u001b[0m\u001b[0;34m,\u001b[0m \u001b[0maxis\u001b[0m\u001b[0;34m=\u001b[0m\u001b[0;36m1\u001b[0m\u001b[0;34m)\u001b[0m\u001b[0;34m\u001b[0m\u001b[0;34m\u001b[0m\u001b[0m\n\u001b[1;32m      4\u001b[0m \u001b[0mcurrent_deaths\u001b[0m \u001b[0;34m=\u001b[0m \u001b[0mcountermeasures_df\u001b[0m\u001b[0;34m[\u001b[0m\u001b[0;34m'ConfirmedDeaths'\u001b[0m\u001b[0;34m]\u001b[0m\u001b[0;34m.\u001b[0m\u001b[0mfillna\u001b[0m\u001b[0;34m(\u001b[0m\u001b[0;36m0\u001b[0m\u001b[0;34m)\u001b[0m\u001b[0;34m\u001b[0m\u001b[0;34m\u001b[0m\u001b[0m\n\u001b[1;32m      5\u001b[0m \u001b[0mcounter\u001b[0m \u001b[0;34m=\u001b[0m \u001b[0mcounter\u001b[0m\u001b[0;34m.\u001b[0m\u001b[0mjoin\u001b[0m\u001b[0;34m(\u001b[0m\u001b[0mcurrent_deaths\u001b[0m\u001b[0;34m)\u001b[0m\u001b[0;34m\u001b[0m\u001b[0;34m\u001b[0m\u001b[0m\n",
      "\u001b[0;31mNameError\u001b[0m: name 'countermeasures_df' is not defined"
     ]
    }
   ],
   "source": [
    "counter = countermeasures_df\n",
    "counter = counter.drop(counter.columns[11:], axis=1)\n",
    "counter = counter.drop('country_code', axis=1)\n",
    "current_deaths = countermeasures_df['ConfirmedDeaths'].fillna(0)\n",
    "counter = counter.join(current_deaths)\n",
    "counter = counter.join(countermeasures_df['StringencyIndexForDisplay'].fillna(0))\n",
    "\n",
    "counter"
   ]
  },
  {
   "cell_type": "markdown",
   "metadata": {},
   "source": [
    "### Helper functions"
   ]
  },
  {
   "cell_type": "code",
   "execution_count": null,
   "metadata": {},
   "outputs": [],
   "source": [
    "# the plots legend cannot display all counties, so this is a smaller list that we are interested in\n",
    "interest = ['United States of America','United Kingdom','Japan','China','Germany','Russia',\n",
    "            'India','Italy','Australia','Brazil','France','Spain','Denmark','Sweden','Norway']"
   ]
  },
  {
   "cell_type": "code",
   "execution_count": null,
   "metadata": {},
   "outputs": [],
   "source": [
    "# Some contries are not named the same in the two dataframes\n",
    "def translator(strr):\n",
    "    if strr=='United States':\n",
    "        return'United States of America'\n",
    "    \n",
    "    if strr=='United States of America':\n",
    "        return'United States'\n",
    "        \n",
    "    if strr=='Serbia':\n",
    "        strr='Republic of Serbia'\n",
    "        \n",
    "    if strr=='Democratic Republic of Congo':\n",
    "        strr='Democratic Republic of the Congo'\n",
    "    \n",
    "    if strr=='Dominica':\n",
    "        strr='Dominican Republic'\n",
    "        \n",
    "    if strr=='Kyrgyz Republic':\n",
    "        strr='Kyrgyzstan'\n",
    "        \n",
    "    if strr=='Tanzania':\n",
    "        strr='United Republic of Tanzania'\n",
    "        \n",
    "    if strr=='Eswatini':\n",
    "        strr='eSwatini'\n",
    "    return strr"
   ]
  },
  {
   "cell_type": "markdown",
   "metadata": {},
   "source": [
    "# newest_per_million skal bruges istedet her."
   ]
  },
  {
   "cell_type": "code",
   "execution_count": null,
   "metadata": {},
   "outputs": [],
   "source": [
    "# finds the latest dead pr. million for a given country\n",
    "def late(strr):\n",
    "    \n",
    "    strr=translator(strr)\n",
    "    \n",
    "    for i in range(len(countries)):\n",
    "        if strr==countries[i]:\n",
    "            return latest[i]/dead_per_million_df['population'][i]*1000000      \n",
    "    return "
   ]
  },
  {
   "cell_type": "markdown",
   "metadata": {},
   "source": [
    "### Process the data\n",
    "\n",
    "The aim is to find the first day of every countermeasure for every country, but we alto locate the fist day of death for every country. This is used for the scatter plot.\n",
    "\n",
    "This also sets timestamps for whenever 'StringencyIndexForDisplay' is changed This will be usefull for the graph."
   ]
  },
  {
   "cell_type": "code",
   "execution_count": null,
   "metadata": {},
   "outputs": [],
   "source": [
    "# Used to build a list for when the first countermeasures and deaths occured\n",
    "arr = np.zeros((len(countries),10))\n",
    "arr_c = []\n",
    "days=-1\n",
    "country = counter['CountryName'][0]\n",
    "c1,c2,c3,c4,c5,c6,c7,c8,de=[0,0,0,0,0,0,0,0,0]\n",
    "arr_country=0\n",
    "\n",
    "# lists used to build index and values for when theres a difference in 'StringencyIndexForDisplay'\n",
    "arr_str_indx = []\n",
    "arr_str_iday = []\n",
    "arr_n = []\n",
    "arr_d = []\n",
    "pre = counter['StringencyIndexForDisplay'][0]\n",
    "\n",
    "for i in range(len(counter['Date'])):\n",
    "    if i==len(counter['Date']):\n",
    "        if not de == 0:\n",
    "            arr[arr_country]=[c1-de,c2-de,c3-de,c4-de,c5-de,c6-de,c7-de,c8-de,de,late(country)]\n",
    "        arr_c.append(country)\n",
    "        arr_str_indx.append(arr_n)\n",
    "        \n",
    "        break \n",
    "    if not country == counter['CountryName'][i]:\n",
    "        days=-1\n",
    "        if not de == 0:\n",
    "            arr[arr_country]=[c1-de,c2-de,c3-de,c4-de,c5-de,c6-de,c7-de,c8-de,de,late(country)]\n",
    "        arr_c.append(country)\n",
    "        arr_str_indx.append(arr_n)\n",
    "        arr_str_iday.append(arr_d)\n",
    "        arr_n = []\n",
    "        arr_d = []\n",
    "        country = counter['CountryName'][i]\n",
    "        c1,c2,c3,c4,c5,c6,c7,c8,de=[0,0,0,0,0,0,0,0,0]\n",
    "        arr_country+=1\n",
    "        pre = counter['StringencyIndexForDisplay'][i]\n",
    "        \n",
    "    days+=1\n",
    "    if not counter['C1_School_closing'][i]==0 and c1==0:\n",
    "        c1=days\n",
    "    \n",
    "    if not counter['C2_Workplace_closing'][i]==0 and c2==0:\n",
    "        c2=days\n",
    "        \n",
    "    if not counter['C3_Cancel_public_events'][i]==0 and c3==0:\n",
    "        c3=days\n",
    "        \n",
    "    if not counter['C4_Restrictions_on_gatherings'][i]==0 and c4==0:\n",
    "        c4=days\n",
    "        \n",
    "    if not counter['C5_Close_public_transport'][i]==0 and c5==0:\n",
    "        c5=days\n",
    "    \n",
    "    if not counter['C6_Stay_at_home_requirements'][i]==0 and c6==0:\n",
    "        c6=days\n",
    "        \n",
    "    if not counter['C7_Restrictions_on_internal_movement'][i]==0 and c7==0:\n",
    "        c7=days\n",
    "        \n",
    "    if not counter['C8_International_travel_controls'][i]==0 and c8==0:\n",
    "        c8=days\n",
    "        \n",
    "    if not counter['ConfirmedDeaths'][i]==0 and de==0:\n",
    "        de=days\n",
    "        \n",
    "    \n",
    "    if not pre == counter['StringencyIndexForDisplay'][i]:\n",
    "        pre = counter['StringencyIndexForDisplay'][i]\n",
    "        if not days-22 < 0:\n",
    "            arr_d.append(days-22)\n",
    "            arr_n.append(pre)\n"
   ]
  },
  {
   "cell_type": "markdown",
   "metadata": {},
   "source": [
    "We put the collected data into a dataframe."
   ]
  },
  {
   "cell_type": "code",
   "execution_count": null,
   "metadata": {},
   "outputs": [],
   "source": [
    "when_df=pd.DataFrame(arr, columns=['C1_School_closing','C2_Workplace_closing','C3_Cancel_public_events',\n",
    "                                     'C4_Restrictions_on_gatherings','C5_Close_public_transport',\n",
    "                                     'C6_Stay_at_home_requirements','C7_Restrictions_on_internal_movement',\n",
    "                                     'C8_International_travel_controls','ConfirmedDeaths','Total_deaths_pr_million']) \n",
    "temp_df=pd.DataFrame(arr_c, columns=['Country'])\n",
    "when_df=temp_df.join(when_df)\n",
    "\n",
    "when_df[:]"
   ]
  },
  {
   "cell_type": "markdown",
   "metadata": {},
   "source": [
    "### The Graph"
   ]
  },
  {
   "cell_type": "code",
   "execution_count": null,
   "metadata": {},
   "outputs": [],
   "source": [
    "#Define the graph colors\n",
    "graph_pal = [cc.rainbow[i] for i in range(len(countries))]\n",
    "#Define a palette of grays for the points on the graph\n",
    "gray_pal = [cc.gray[i*2] for i in range(101)]\n",
    "#Reverse color order \n",
    "gray_pal = gray_pal[::-1]"
   ]
  },
  {
   "cell_type": "code",
   "execution_count": null,
   "metadata": {},
   "outputs": [],
   "source": [
    "# Converts the StringencyIndexForDisplay data into gray colors\n",
    "arr_gray = []\n",
    "for i in range(len(arr_str_indx)):\n",
    "    gr = []\n",
    "    for j in range(len(arr_str_indx[i])):\n",
    "        gr.append(gray_pal[int(arr_str_indx[i][j])])\n",
    "    arr_gray.append(gr)"
   ]
  },
  {
   "cell_type": "code",
   "execution_count": null,
   "metadata": {
    "scrolled": false
   },
   "outputs": [],
   "source": [
    "# graph with points on\n",
    "p1 = figure( title=\"Death pr. mil. over time\", plot_width=800, plot_height=500)\n",
    "p1.xaxis.axis_label = 'Days after Jan 22th'\n",
    "\n",
    "legend_it = []\n",
    "\n",
    "for i in range(len(countries)):\n",
    "    if countries[i] in interest:\n",
    "        if not when_df.index[when_df['Country']==translator(countries[i])].tolist() == []:\n",
    "            c = p1.line(range(len(indexed_data[i])), indexed_data[i], line_width=2, color=graph_pal[i], \n",
    "                        alpha=0.8, muted_alpha=0.01, muted=True)\n",
    "            d = []\n",
    "            x = when_df.index[when_df['Country']==translator(countries[i])].tolist()[0]\n",
    "\n",
    "            d = p1.circle(arr_str_iday[x], indexed_data[i][arr_str_iday[x]], size=10, \n",
    "                      fill_color = arr_gray[x], \n",
    "                      line_color=graph_pal[i], line_width=2, muted_alpha=0, muted=True)\n",
    "            #print(str(j) + \" \" + str(len(arr_str_indx[i])))\n",
    "            legend_it.append((countries[i],[c,d]))\n",
    "        \n",
    "    \n",
    "legend = Legend(items=legend_it)\n",
    "legend.click_policy=\"mute\"\n",
    "p1.add_layout(legend, 'right')\n",
    "p1.legend.label_text_font_size = '8pt'\n",
    "\n",
    "output_notebook()\n",
    "output_file(\"./bokeh/graph.html\")\n",
    "show(p1)"
   ]
  },
  {
   "cell_type": "markdown",
   "metadata": {},
   "source": [
    "### The scatter plots"
   ]
  },
  {
   "cell_type": "code",
   "execution_count": null,
   "metadata": {},
   "outputs": [],
   "source": [
    "# filter out countries that have yet to have a death\n",
    "filter_df = when_df[when_df.ConfirmedDeaths != 0]"
   ]
  },
  {
   "cell_type": "code",
   "execution_count": null,
   "metadata": {},
   "outputs": [],
   "source": [
    "from bokeh.models import HoverTool\n",
    "#Define hover tool showing the country name and the death count\n",
    "hover = HoverTool(tooltips = [ ('Country','@country'),('Deaths', '@ConfirmedDeaths')])"
   ]
  },
  {
   "cell_type": "code",
   "execution_count": null,
   "metadata": {},
   "outputs": [],
   "source": [
    "#Define the palette for the scatterplot\n",
    "scatter_pal = cc.fire[:-25]\n",
    "#Reverse color order \n",
    "scatter_pal = scatter_pal[::-1]\n",
    "\n",
    "#Define logarithmic color mapper\n",
    "color_mapper_scatter = LogColorMapper(palette = scatter_pal, low = 0.0001, \n",
    "                                      high = max(when_df['Total_deaths_pr_million'].fillna(0)),\n",
    "                                      low_color = '#fff0ba', nan_color = '#d9d9d9')"
   ]
  },
  {
   "cell_type": "code",
   "execution_count": null,
   "metadata": {},
   "outputs": [],
   "source": [
    "\n",
    "#Define colorbar using logarithmic ticks\n",
    "color_bar = ColorBar(color_mapper=color_mapper_scatter, ticker=LogTicker(),\n",
    "                     label_standoff=2, border_line_color=None, location=(0,0), \n",
    "                     major_label_text_align='left', \n",
    "                     formatter = BasicTickFormatter(use_scientific = False,precision=6))\n"
   ]
  },
  {
   "cell_type": "code",
   "execution_count": null,
   "metadata": {},
   "outputs": [],
   "source": [
    "w = 450\n",
    "h = 270\n",
    "TOOLS='pan,wheel_zoom,box_zoom,reset'\n",
    "\n",
    "pp = []\n",
    "\n",
    "for i in range(1,9):\n",
    "    n = when_df.columns[i]\n",
    "    pa = figure( title=n, tools=TOOLS, plot_width=w, plot_height=h)\n",
    "    pa.add_tools(HoverTool(tooltips=[(\"Country\", \"@Country\"), (\"Current deaths pr million\", \"@Total_deaths_pr_million\")]))\n",
    "    pa.xaxis.axis_label = 'Days before first confirmed death'\n",
    "    pa.yaxis.axis_label = 'Relative first day of countermeasure'\n",
    "    pa.x_range.start = 0\n",
    "    pa.circle('ConfirmedDeaths', n, size=12, source = filter_df, \n",
    "         fill_color = {'field' : 'Total_deaths_pr_million', 'transform' : color_mapper_scatter}, \n",
    "          line_color=\"black\", fill_alpha=0.6, line_alpha=0.6)\n",
    "    if i%2==1:\n",
    "        pa.add_layout(color_bar, 'left')\n",
    "    else:\n",
    "        pa.add_layout(color_bar, 'right')\n",
    "        \n",
    "    pp.append(pa)\n"
   ]
  },
  {
   "cell_type": "code",
   "execution_count": null,
   "metadata": {},
   "outputs": [],
   "source": [
    "from bokeh.layouts import column, row\n",
    "\n",
    "layout = row(\n",
    "    column(pp[0], pp[2], pp[4], pp[6]),\n",
    "    column(pp[1], pp[3], pp[5], pp[7])\n",
    ")\n",
    "\n",
    "output_notebook()\n",
    "output_file(\"./bokeh/scatter.html\")\n",
    "show(layout)"
   ]
  }
 ],
 "metadata": {
  "kernelspec": {
   "display_name": "Python 3",
   "language": "python",
   "name": "python3"
  },
  "language_info": {
   "codemirror_mode": {
    "name": "ipython",
    "version": 3
   },
   "file_extension": ".py",
   "mimetype": "text/x-python",
   "name": "python",
   "nbconvert_exporter": "python",
   "pygments_lexer": "ipython3",
   "version": "3.7.3"
  }
 },
 "nbformat": 4,
 "nbformat_minor": 2
}
